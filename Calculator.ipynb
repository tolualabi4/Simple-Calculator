{
 "cells": [
  {
   "cell_type": "markdown",
   "id": "e811b1df",
   "metadata": {},
   "source": [
    "# Simple Calculator"
   ]
  },
  {
   "cell_type": "markdown",
   "id": "b027cdd4",
   "metadata": {},
   "source": [
    "Create a calculator that takes in two numbers entered by a user and performs any of the following operations; 1. Addition 2. Subtraction 3. multiplication 4. Division"
   ]
  },
  {
   "cell_type": "code",
   "execution_count": 6,
   "id": "8b9c4241",
   "metadata": {},
   "outputs": [
    {
     "name": "stdout",
     "output_type": "stream",
     "text": [
      "Enter first number-->65\n",
      "Enter second number-->75\n",
      "\n",
      "Enter 1 to add \n",
      "Enter 2 to subtract \n",
      "Enter 3 to multiply \n",
      "Enter 4 to divide \n",
      "-->3\n",
      "4875\n"
     ]
    }
   ],
   "source": [
    "num1 = int(input('Enter first number-->'))\n",
    "num2 = int(input('Enter second number-->'))\n",
    "\n",
    "req = input('\\nEnter 1 to add \\nEnter 2 to subtract \\nEnter 3 to multiply \\nEnter 4 to divide \\n-->')\n",
    "\n",
    "if req == '1':\n",
    "    print(num1 + num2)\n",
    "elif req == '2':\n",
    "    print(num1 - num2)\n",
    "elif req == '3':\n",
    "    print(num1 * num2)\n",
    "elif req == '4':\n",
    "    print(num1 / num2)\n",
    "else: \n",
    "    print('Invalid input')"
   ]
  },
  {
   "cell_type": "code",
   "execution_count": null,
   "id": "3d864ca2",
   "metadata": {},
   "outputs": [],
   "source": []
  }
 ],
 "metadata": {
  "kernelspec": {
   "display_name": "Python 3 (ipykernel)",
   "language": "python",
   "name": "python3"
  },
  "language_info": {
   "codemirror_mode": {
    "name": "ipython",
    "version": 3
   },
   "file_extension": ".py",
   "mimetype": "text/x-python",
   "name": "python",
   "nbconvert_exporter": "python",
   "pygments_lexer": "ipython3",
   "version": "3.11.5"
  }
 },
 "nbformat": 4,
 "nbformat_minor": 5
}
